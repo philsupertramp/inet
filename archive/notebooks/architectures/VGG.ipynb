version https://git-lfs.github.com/spec/v1
oid sha256:b5f68425ee311c3529fc5d619e975e3d4571693bc614342b3421b84892b01f24
size 675472
