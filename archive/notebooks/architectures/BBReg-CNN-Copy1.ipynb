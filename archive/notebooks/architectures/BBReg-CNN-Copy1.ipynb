version https://git-lfs.github.com/spec/v1
oid sha256:fc5111bf55aad34c6371272b4081594d9ab8d18f25c97ecc7f3510f39aedd74f
size 8575928
