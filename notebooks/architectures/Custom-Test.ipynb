version https://git-lfs.github.com/spec/v1
oid sha256:05fd1a25be793e0e90a7fd433bfc73455fb0d497a1e60119729ead30c8b4fd40
size 1361629
