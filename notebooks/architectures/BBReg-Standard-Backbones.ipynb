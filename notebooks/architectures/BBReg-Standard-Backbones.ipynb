version https://git-lfs.github.com/spec/v1
oid sha256:50eb6b97c2d12263906c6f19dd4f6ba8cc0dc27a266d10afce7aea3ccbefe42b
size 1397550
