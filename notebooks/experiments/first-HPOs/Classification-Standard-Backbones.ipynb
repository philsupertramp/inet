version https://git-lfs.github.com/spec/v1
oid sha256:cdf16520f99ac1160f6780bd44c265a7f68132cabfd2799c4ac9cf116ced9a02
size 264611
